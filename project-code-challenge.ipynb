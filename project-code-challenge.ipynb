{
 "cells": [
  {
   "cell_type": "markdown",
   "metadata": {},
   "source": [
    "<img src=\"http://imgur.com/1ZcRyrc.png\" style=\"float: left; margin: 20px; height: 55px\">\n",
    "\n",
    "# Project 1: Python Coding Exercises\n",
    "\n",
    "_Authors: Joseph Nelson (DC) _\n",
    "\n",
    "---"
   ]
  },
  {
   "cell_type": "markdown",
   "metadata": {},
   "source": [
    "The following code challenges are drawn from common exercises used in technical interviews.\n",
    "\n",
    "Please note that there may be several ways to approach each challenge. If you get stuck, try mapping out your approach in pseudocode first. Finally, while solutions to problems like these may be found online, remember that if you copy/paste code that you can't explain, you'll be missing out on the point of the project. The only way to truly learn a new skill is through practice, trial, and error - we can only help you improve by understanding where you are having trouble."
   ]
  },
  {
   "cell_type": "markdown",
   "metadata": {},
   "source": [
    "### Challenge 1: Largest Palindrome\n",
    "A palindromic number reads the same both ways. For example, 1234321 is a palindrome. The largest palindrome made from the product of two two-digit numbers is 9009 = 91 × 99. Find the largest palindrome made from the product of two three-digit numbers. Afterward, write a brief explanation walking through your code's logic in markdown."
   ]
  },
  {
   "cell_type": "code",
   "execution_count": 35,
   "metadata": {
    "collapsed": true
   },
   "outputs": [
    {
     "name": "stdout",
     "output_type": "stream",
     "text": [
      "997799\n"
     ]
    }
   ],
   "source": [
    "palindrome = 0\n",
    "\n",
    "for number in range(1,998001):\n",
    "    if str(number) == str(number)[::-1]:\n",
    "        palindrome = number\n",
    "print(palindrome)"
   ]
  },
  {
   "cell_type": "markdown",
   "metadata": {},
   "source": [
    "Set a dummy interger as 0\n",
    "\n",
    "\n",
    "The largest number that is a multiple of two, 3 digit numbers is 999 x 999 = 998001\n",
    "\n",
    "Sstart with the number 1 and check if the number is a palindrome, if it is, set that number as the palindrome value\n",
    "\n",
    "Print whatever value is set to palindrome and it will be the largest value since we have started from 1 and counted up.\n"
   ]
  },
  {
   "cell_type": "markdown",
   "metadata": {},
   "source": [
    "\n",
    "### Challenge 2: Summation of Primes\n",
    "The sum of the primes below 10 is 2 + 3 + 5 + 7 = 17. Find the sum of all the primes below 2,000. Afterward, write a brief explanation walking through your code's logic in markdown."
   ]
  },
  {
   "cell_type": "code",
   "execution_count": 28,
   "metadata": {
    "collapsed": true
   },
   "outputs": [
    {
     "name": "stdout",
     "output_type": "stream",
     "text": [
      "277050\n",
      "[2, 3, 5, 7, 11, 13, 17, 19, 23, 29, 31, 37, 41, 43, 47, 53, 59, 61, 67, 71, 73, 79, 83, 89, 97, 101, 103, 107, 109, 113, 127, 131, 137, 139, 149, 151, 157, 163, 167, 173, 179, 181, 191, 193, 197, 199, 211, 223, 227, 229, 233, 239, 241, 251, 257, 263, 269, 271, 277, 281, 283, 293, 307, 311, 313, 317, 331, 337, 347, 349, 353, 359, 367, 373, 379, 383, 389, 397, 401, 409, 419, 421, 431, 433, 439, 443, 449, 457, 461, 463, 467, 479, 487, 491, 499, 503, 509, 521, 523, 541, 547, 557, 563, 569, 571, 577, 587, 593, 599, 601, 607, 613, 617, 619, 631, 641, 643, 647, 653, 659, 661, 673, 677, 683, 691, 701, 709, 719, 727, 733, 739, 743, 751, 757, 761, 769, 773, 787, 797, 809, 811, 821, 823, 827, 829, 839, 853, 857, 859, 863, 877, 881, 883, 887, 907, 911, 919, 929, 937, 941, 947, 953, 967, 971, 977, 983, 991, 997, 1009, 1013, 1019, 1021, 1031, 1033, 1039, 1049, 1051, 1061, 1063, 1069, 1087, 1091, 1093, 1097, 1103, 1109, 1117, 1123, 1129, 1151, 1153, 1163, 1171, 1181, 1187, 1193, 1201, 1213, 1217, 1223, 1229, 1231, 1237, 1249, 1259, 1277, 1279, 1283, 1289, 1291, 1297, 1301, 1303, 1307, 1319, 1321, 1327, 1361, 1367, 1373, 1381, 1399, 1409, 1423, 1427, 1429, 1433, 1439, 1447, 1451, 1453, 1459, 1471, 1481, 1483, 1487, 1489, 1493, 1499, 1511, 1523, 1531, 1543, 1549, 1553, 1559, 1567, 1571, 1579, 1583, 1597, 1601, 1607, 1609, 1613, 1619, 1621, 1627, 1637, 1657, 1663, 1667, 1669, 1693, 1697, 1699, 1709, 1721, 1723, 1733, 1741, 1747, 1753, 1759, 1777, 1783, 1787, 1789, 1801, 1811, 1823, 1831, 1847, 1861, 1867, 1871, 1873, 1877, 1879, 1889, 1901, 1907, 1913, 1931, 1933, 1949, 1951, 1973, 1979, 1987, 1993, 1997, 1999]\n"
     ]
    }
   ],
   "source": [
    "sum_primes = 2\n",
    "prime_list = [2]\n",
    "prime_test = True\n",
    "\n",
    "for number in range(3,2000,2):\n",
    "    prime_test = True\n",
    "    for prime in prime_list:\n",
    "        if number % prime == 0:\n",
    "            prime_test = False\n",
    "            break\n",
    "        else:\n",
    "            prime_test = True\n",
    "    if prime_test == True:\n",
    "        prime_list.append(number)\n",
    "        sum_primes += number\n",
    "print(sum_primes)\n",
    "print(prime_list)\n",
    "        "
   ]
  },
  {
   "cell_type": "markdown",
   "metadata": {},
   "source": [
    "We know that all multiples of 2 are composite numbers. So start with the value of 2 as our sum of all prime numbers and make a list of that we will append prime numbers to as we find them. \n",
    "\n",
    "\n",
    "\n",
    "We will test to see if a number is prime. So assume that all numbers are prime until proven other wise by setting prime_test = True\n",
    "\n",
    "Since we know that all multiples of 2 are not prime, start with the number 3 and only test the odd number.\n",
    "\n",
    "Assume that each number is prime until proven otherwise, so reset the prime_test flag as true.\n",
    "\n",
    "    prime_test = True\n",
    "\n",
    "Divide each number in the range by each prime number in the list. If the number can be divied by a prime number, it is a composite number. If it cannot, it is prime. So add it to our total and append it to our list of primes.\n",
    "\n",
    "    for prime in prime_list:\n",
    "        if number % prime == 0:\n",
    "            prime_test = False\n",
    "            break\n",
    "        else:\n",
    "            prime_test = True\n",
    "    if prime_test == True:\n",
    "        prime_list.append(number)\n",
    "        sum_primes += number\n",
    "\n",
    "Print the results\n"
   ]
  },
  {
   "cell_type": "markdown",
   "metadata": {},
   "source": [
    "### Challenge 3: Multiples of 3 and 5\n",
    "If we list all of the natural numbers below 10 that are multiples of 3 or 5, we get 3, 5, 6, and 9. The sum of these multiples is 23. Find the sum of all the multiples of 3 and 5 below 1,000. Afterward, write a brief explanation walking through your code's logic in markdown."
   ]
  },
  {
   "cell_type": "code",
   "execution_count": 10,
   "metadata": {
    "collapsed": true
   },
   "outputs": [
    {
     "name": "stdout",
     "output_type": "stream",
     "text": [
      "233168\n"
     ]
    }
   ],
   "source": [
    "sum_number = 0\n",
    "for number in range (1,1000):\n",
    "    if number % 3 == 0:\n",
    "        sum_number += number\n",
    "    elif number % 5 == 0:\n",
    "        sum_number += number\n",
    "print(sum_number)"
   ]
  },
  {
   "cell_type": "markdown",
   "metadata": {},
   "source": [
    "Set an integar to a value of 0 for our sum. Check that the number is divisible by 3, then 5. If it is add divisible by either, add to our sum_number."
   ]
  },
  {
   "cell_type": "markdown",
   "metadata": {},
   "source": [
    "### Challenge 4: String Compressor\n",
    "Implement a method to perform basic string compression using the counts of repeated characters. (This is called run-length encoding.) For example, the string \"aabcccccaaa\" would become a2b1c5a3. If the “compressed” string would not become smaller than the original string, your method should return the original string. You can assume the string has only uppercase and lowercase letters (a–z). Specify whether your solution is case sensitive or case insensitive and what you would need to change to make it the other. Afterward, write a brief explanation walking through your code's logic in markdown."
   ]
  },
  {
   "cell_type": "code",
   "execution_count": 54,
   "metadata": {
    "collapsed": true
   },
   "outputs": [
    {
     "name": "stdout",
     "output_type": "stream",
     "text": [
      "a2b1c5a3\n"
     ]
    }
   ],
   "source": [
    "test_string = \"aabcccccaaa\"\n",
    "string_length = len(test_string)\n",
    "\n",
    "compressed_string = test_string[0]\n",
    "chara_count = 1\n",
    "\n",
    "for char in range(1,string_length):\n",
    "    if test_string[char - 1] == test_string[char]:\n",
    "        chara_count += 1\n",
    "    else:\n",
    "        compressed_string += str(chara_count)\n",
    "        compressed_string += test_string[char]\n",
    "        chara_count = 1\n",
    "compressed_string += str(chara_count)       \n",
    "\n",
    "if len(test_string) < len(compressed_string):\n",
    "    print(test_string)\n",
    "else:\n",
    "    print(compressed_string)"
   ]
  },
  {
   "cell_type": "markdown",
   "metadata": {},
   "source": [
    "This solution is case sensitive. Determine the length of the test string. Go ahead and append the first character of the test string to a new string that will hold our compressed string. Set our character count (chara_count) to 1. \n",
    "\n",
    "For each character in the range of 1 to the end our our string, its length, check to see if it matches the character before. If it does, increment our character count by 1. Otherwise, if we have a new character in the string, print that character and the current count, then reset the count to one. For the final letter, print the character count once the loop has finished.\n",
    "\n",
    "Compare the length of the compressed string to the original spring. If it is shorter, print the compressed string, if it is longer, print the original string. "
   ]
  },
  {
   "cell_type": "markdown",
   "metadata": {},
   "source": [
    "### *BONUS* Challenge: FizzBuzz\n",
    "Write a program that prints all of the numbers from 1 to 100. For multiples of 3, instead of the number, print \"Fizz;\" for multiples of 5, print \"Buzz.\" For numbers that are multiples of both 3 and 5, print \"FizzBuzz.\" Afterward, write a brief explanation walking through your code's logic in markdown."
   ]
  },
  {
   "cell_type": "code",
   "execution_count": 3,
   "metadata": {
    "collapsed": true
   },
   "outputs": [
    {
     "name": "stdout",
     "output_type": "stream",
     "text": [
      "1\n",
      "2\n",
      "Fizz\n",
      "4\n",
      "Buzz\n",
      "Fizz\n",
      "7\n",
      "8\n",
      "Fizz\n",
      "Buzz\n",
      "11\n",
      "Fizz\n",
      "13\n",
      "14\n",
      "FizzBuzz\n",
      "16\n",
      "17\n",
      "Fizz\n",
      "19\n",
      "Buzz\n",
      "Fizz\n",
      "22\n",
      "23\n",
      "Fizz\n",
      "Buzz\n",
      "26\n",
      "Fizz\n",
      "28\n",
      "29\n",
      "FizzBuzz\n",
      "31\n",
      "32\n",
      "Fizz\n",
      "34\n",
      "Buzz\n",
      "Fizz\n",
      "37\n",
      "38\n",
      "Fizz\n",
      "Buzz\n",
      "41\n",
      "Fizz\n",
      "43\n",
      "44\n",
      "FizzBuzz\n",
      "46\n",
      "47\n",
      "Fizz\n",
      "49\n",
      "Buzz\n",
      "Fizz\n",
      "52\n",
      "53\n",
      "Fizz\n",
      "Buzz\n",
      "56\n",
      "Fizz\n",
      "58\n",
      "59\n",
      "FizzBuzz\n",
      "61\n",
      "62\n",
      "Fizz\n",
      "64\n",
      "Buzz\n",
      "Fizz\n",
      "67\n",
      "68\n",
      "Fizz\n",
      "Buzz\n",
      "71\n",
      "Fizz\n",
      "73\n",
      "74\n",
      "FizzBuzz\n",
      "76\n",
      "77\n",
      "Fizz\n",
      "79\n",
      "Buzz\n",
      "Fizz\n",
      "82\n",
      "83\n",
      "Fizz\n",
      "Buzz\n",
      "86\n",
      "Fizz\n",
      "88\n",
      "89\n",
      "FizzBuzz\n",
      "91\n",
      "92\n",
      "Fizz\n",
      "94\n",
      "Buzz\n",
      "Fizz\n",
      "97\n",
      "98\n",
      "Fizz\n",
      "Buzz\n"
     ]
    }
   ],
   "source": [
    "for number in range(1,101):\n",
    "    if number % 3 == 0 and number % 5 == 0:\n",
    "        print('FizzBuzz')\n",
    "    elif number % 3 == 0:\n",
    "        print('Fizz')\n",
    "    elif number % 5 == 0:\n",
    "        print('Buzz')\n",
    "    else:\n",
    "        print(number)"
   ]
  },
  {
   "cell_type": "markdown",
   "metadata": {},
   "source": [
    "Check that our number is divisible by both 3 and 5 first. Then check for 3, then 5. Print the appropriate value as determined by the prompt."
   ]
  }
 ],
 "metadata": {
  "anaconda-cloud": {},
  "kernelspec": {
   "display_name": "Python 3",
   "language": "python",
   "name": "python3"
  },
  "language_info": {
   "codemirror_mode": {
    "name": "ipython",
    "version": 3
   },
   "file_extension": ".py",
   "mimetype": "text/x-python",
   "name": "python",
   "nbconvert_exporter": "python",
   "pygments_lexer": "ipython3",
   "version": "3.7.3"
  }
 },
 "nbformat": 4,
 "nbformat_minor": 2
}
